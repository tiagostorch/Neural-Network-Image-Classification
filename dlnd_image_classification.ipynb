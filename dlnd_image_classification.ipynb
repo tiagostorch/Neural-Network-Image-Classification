{
 "cells": [
  {
   "cell_type": "markdown",
   "metadata": {
    "collapsed": true
   },
   "source": [
    "# Image Classification\n",
    "In this project, you'll classify images from the [CIFAR-10 dataset](https://www.cs.toronto.edu/~kriz/cifar.html).  The dataset consists of airplanes, dogs, cats, and other objects. You'll preprocess the images, then train a convolutional neural network on all the samples. The images need to be normalized and the labels need to be one-hot encoded.  You'll get to apply what you learned and build a convolutional, max pooling, dropout, and fully connected layers.  At the end, you'll get to see your neural network's predictions on the sample images.\n",
    "## Get the Data\n",
    "Run the following cell to download the [CIFAR-10 dataset for python](https://www.cs.toronto.edu/~kriz/cifar-10-python.tar.gz)."
   ]
  },
  {
   "cell_type": "code",
   "execution_count": 41,
   "metadata": {},
   "outputs": [
    {
     "name": "stdout",
     "output_type": "stream",
     "text": [
      "All files found!\n"
     ]
    }
   ],
   "source": [
    "\"\"\"\n",
    "DON'T MODIFY ANYTHING IN THIS CELL THAT IS BELOW THIS LINE\n",
    "\"\"\"\n",
    "from urllib.request import urlretrieve\n",
    "from os.path import isfile, isdir\n",
    "from tqdm import tqdm\n",
    "import problem_unittests as tests\n",
    "import tarfile\n",
    "\n",
    "cifar10_dataset_folder_path = 'cifar-10-batches-py'\n",
    "\n",
    "# Use Floyd's cifar-10 dataset if present\n",
    "floyd_cifar10_location = '/input/cifar-10/python.tar.gz'\n",
    "if isfile(floyd_cifar10_location):\n",
    "    tar_gz_path = floyd_cifar10_location\n",
    "else:\n",
    "    tar_gz_path = 'cifar-10-python.tar.gz'\n",
    "\n",
    "class DLProgress(tqdm):\n",
    "    last_block = 0\n",
    "\n",
    "    def hook(self, block_num=1, block_size=1, total_size=None):\n",
    "        self.total = total_size\n",
    "        self.update((block_num - self.last_block) * block_size)\n",
    "        self.last_block = block_num\n",
    "\n",
    "if not isfile(tar_gz_path):\n",
    "    with DLProgress(unit='B', unit_scale=True, miniters=1, desc='CIFAR-10 Dataset') as pbar:\n",
    "        urlretrieve(\n",
    "            'https://www.cs.toronto.edu/~kriz/cifar-10-python.tar.gz',\n",
    "            tar_gz_path,\n",
    "            pbar.hook)\n",
    "\n",
    "if not isdir(cifar10_dataset_folder_path):\n",
    "    with tarfile.open(tar_gz_path) as tar:\n",
    "        tar.extractall()\n",
    "        tar.close()\n",
    "\n",
    "\n",
    "tests.test_folder_path(cifar10_dataset_folder_path)"
   ]
  },
  {
   "cell_type": "markdown",
   "metadata": {},
   "source": [
    "## Explore the Data\n",
    "The dataset is broken into batches to prevent your machine from running out of memory.  The CIFAR-10 dataset consists of 5 batches, named `data_batch_1`, `data_batch_2`, etc.. Each batch contains the labels and images that are one of the following:\n",
    "* airplane\n",
    "* automobile\n",
    "* bird\n",
    "* cat\n",
    "* deer\n",
    "* dog\n",
    "* frog\n",
    "* horse\n",
    "* ship\n",
    "* truck\n",
    "\n",
    "Understanding a dataset is part of making predictions on the data.  Play around with the code cell below by changing the `batch_id` and `sample_id`. The `batch_id` is the id for a batch (1-5). The `sample_id` is the id for a image and label pair in the batch.\n",
    "\n",
    "Ask yourself \"What are all possible labels?\", \"What is the range of values for the image data?\", \"Are the labels in order or random?\".  Answers to questions like these will help you preprocess the data and end up with better predictions."
   ]
  },
  {
   "cell_type": "code",
   "execution_count": 42,
   "metadata": {},
   "outputs": [
    {
     "name": "stdout",
     "output_type": "stream",
     "text": [
      "\n",
      "Stats of batch 4:\n",
      "Samples: 10000\n",
      "Label Counts: {0: 1003, 1: 963, 2: 1041, 3: 976, 4: 1004, 5: 1021, 6: 1004, 7: 981, 8: 1024, 9: 983}\n",
      "First 20 Labels: [0, 6, 0, 2, 7, 2, 1, 2, 4, 1, 5, 6, 6, 3, 1, 3, 5, 5, 8, 1]\n",
      "\n",
      "Example of Image 1000:\n",
      "Image - Min Value: 29 Max Value: 255\n",
      "Image - Shape: (32, 32, 3)\n",
      "Label - Label Id: 0 Name: airplane\n"
     ]
    },
    {
     "data": {
      "image/png": "[encoded data removed]",
      "text/plain": [
       "<matplotlib.figure.Figure at 0x125eb19b0>"
      ]
     },
     "metadata": {
      "image/png": {
       "height": 250,
       "width": 253
      }
     },
     "output_type": "display_data"
    }
   ],
   "source": [
    "%matplotlib inline\n",
    "%config InlineBackend.figure_format = 'retina'\n",
    "\n",
    "import helper\n",
    "import numpy as np\n",
    "\n",
    "# Explore the dataset\n",
    "batch_id = 4\n",
    "sample_id = 1000\n",
    "helper.display_stats(cifar10_dataset_folder_path, batch_id, sample_id)"
   ]
  },
  {
   "cell_type": "markdown",
   "metadata": {},
   "source": [
    "## Implement Preprocess Functions\n",
    "### Normalize\n",
    "In the cell below, implement the `normalize` function to take in image data, `x`, and return it as a normalized Numpy array. The values should be in the range of 0 to 1, inclusive.  The return object should be the same shape as `x`."
   ]
  },
  {
   "cell_type": "code",
   "execution_count": 43,
   "metadata": {},
   "outputs": [
    {
     "name": "stdout",
     "output_type": "stream",
     "text": [
      "Tests Passed\n"
     ]
    }
   ],
   "source": [
    "def normalize(x):\n",
    "    \"\"\"\n",
    "    Normalize a list of sample image data in the range of 0 to 1\n",
    "    : x: List of image data.  The image shape is (32, 32, 3)\n",
    "    : return: Numpy array of normalize data\n",
    "    \"\"\"\n",
    "    # TODO: Implement Function\n",
    "    return np.array((x - np.min(x)) / (np.max(x) - np.min(x)))\n",
    "\n",
    "\n",
    "\"\"\"\n",
    "DON'T MODIFY ANYTHING IN THIS CELL THAT IS BELOW THIS LINE\n",
    "\"\"\"\n",
    "tests.test_normalize(normalize)"
   ]
  },
  {
   "cell_type": "markdown",
   "metadata": {},
   "source": [
    "### One-hot encode\n",
    "Just like the previous code cell, you'll be implementing a function for preprocessing.  This time, you'll implement the `one_hot_encode` function. The input, `x`, are a list of labels.  Implement the function to return the list of labels as One-Hot encoded Numpy array.  The possible values for labels are 0 to 9. The one-hot encoding function should return the same encoding for each value between each call to `one_hot_encode`.  Make sure to save the map of encodings outside the function.\n",
    "\n",
    "Hint: Don't reinvent the wheel."
   ]
  },
  {
   "cell_type": "code",
   "execution_count": 44,
   "metadata": {
    "scrolled": false
   },
   "outputs": [
    {
     "name": "stdout",
     "output_type": "stream",
     "text": [
      "Tests Passed\n"
     ]
    }
   ],
   "source": [
    "def one_hot_encode(x):\n",
    "    \"\"\"\n",
    "    One hot encode a list of sample labels. Return a one-hot encoded vector for each label.\n",
    "    : x: List of sample Labels\n",
    "    : return: Numpy array of one-hot encoded labels\n",
    "    \"\"\"\n",
    "    # TODO: Implement Function\n",
    "    return np.eye(10)[x]\n",
    "\n",
    "\n",
    "\"\"\"\n",
    "DON'T MODIFY ANYTHING IN THIS CELL THAT IS BELOW THIS LINE\n",
    "\"\"\"\n",
    "tests.test_one_hot_encode(one_hot_encode)"
   ]
  },
  {
   "cell_type": "markdown",
   "metadata": {},
   "source": [
    "### Randomize Data\n",
    "As you saw from exploring the data above, the order of the samples are randomized.  It doesn't hurt to randomize it again, but you don't need to for this dataset."
   ]
  },
  {
   "cell_type": "markdown",
   "metadata": {},
   "source": [
    "## Preprocess all the data and save it\n",
    "Running the code cell below will preprocess all the CIFAR-10 data and save it to file. The code below also uses 10% of the training data for validation."
   ]
  },
  {
   "cell_type": "code",
   "execution_count": 45,
   "metadata": {
    "collapsed": true
   },
   "outputs": [],
   "source": [
    "\"\"\"\n",
    "DON'T MODIFY ANYTHING IN THIS CELL\n",
    "\"\"\"\n",
    "# Preprocess Training, Validation, and Testing Data\n",
    "helper.preprocess_and_save_data(cifar10_dataset_folder_path, normalize, one_hot_encode)"
   ]
  },
  {
   "cell_type": "markdown",
   "metadata": {},
   "source": [
    "# Check Point\n",
    "This is your first checkpoint.  If you ever decide to come back to this notebook or have to restart the notebook, you can start from here.  The preprocessed data has been saved to disk."
   ]
  },
  {
   "cell_type": "code",
   "execution_count": 46,
   "metadata": {
    "collapsed": true
   },
   "outputs": [],
   "source": [
    "\"\"\"\n",
    "DON'T MODIFY ANYTHING IN THIS CELL\n",
    "\"\"\"\n",
    "import pickle\n",
    "import problem_unittests as tests\n",
    "import helper\n",
    "\n",
    "# Load the Preprocessed Validation data\n",
    "valid_features, valid_labels = pickle.load(open('preprocess_validation.p', mode='rb'))"
   ]
  },
  {
   "cell_type": "markdown",
   "metadata": {},
   "source": [
    "## Build the network\n",
    "For the neural network, you'll build each layer into a function.  Most of the code you've seen has been outside of functions. To test your code more thoroughly, we require that you put each layer in a function.  This allows us to give you better feedback and test for simple mistakes using our unittests before you submit your project.\n",
    "\n",
    ">**Note:** If you're finding it hard to dedicate enough time for this course each week, we've provided a small shortcut to this part of the project. In the next couple of problems, you'll have the option to use classes from the [TensorFlow Layers](https://www.tensorflow.org/api_docs/python/tf/layers) or [TensorFlow Layers (contrib)](https://www.tensorflow.org/api_guides/python/contrib.layers) packages to build each layer, except the layers you build in the \"Convolutional and Max Pooling Layer\" section.  TF Layers is similar to Keras's and TFLearn's abstraction to layers, so it's easy to pickup.\n",
    "\n",
    ">However, if you would like to get the most out of this course, try to solve all the problems _without_ using anything from the TF Layers packages. You **can** still use classes from other packages that happen to have the same name as ones you find in TF Layers! For example, instead of using the TF Layers version of the `conv2d` class, [tf.layers.conv2d](https://www.tensorflow.org/api_docs/python/tf/layers/conv2d), you would want to use the TF Neural Network version of `conv2d`, [tf.nn.conv2d](https://www.tensorflow.org/api_docs/python/tf/nn/conv2d). \n",
    "\n",
    "Let's begin!\n",
    "\n",
    "### Input\n",
    "The neural network needs to read the image data, one-hot encoded labels, and dropout keep probability. Implement the following functions\n",
    "* Implement `neural_net_image_input`\n",
    " * Return a [TF Placeholder](https://www.tensorflow.org/api_docs/python/tf/placeholder)\n",
    " * Set the shape using `image_shape` with batch size set to `None`.\n",
    " * Name the TensorFlow placeholder \"x\" using the TensorFlow `name` parameter in the [TF Placeholder](https://www.tensorflow.org/api_docs/python/tf/placeholder).\n",
    "* Implement `neural_net_label_input`\n",
    " * Return a [TF Placeholder](https://www.tensorflow.org/api_docs/python/tf/placeholder)\n",
    " * Set the shape using `n_classes` with batch size set to `None`.\n",
    " * Name the TensorFlow placeholder \"y\" using the TensorFlow `name` parameter in the [TF Placeholder](https://www.tensorflow.org/api_docs/python/tf/placeholder).\n",
    "* Implement `neural_net_keep_prob_input`\n",
    " * Return a [TF Placeholder](https://www.tensorflow.org/api_docs/python/tf/placeholder) for dropout keep probability.\n",
    " * Name the TensorFlow placeholder \"keep_prob\" using the TensorFlow `name` parameter in the [TF Placeholder](https://www.tensorflow.org/api_docs/python/tf/placeholder).\n",
    "\n",
    "These names will be used at the end of the project to load your saved model.\n",
    "\n",
    "Note: `None` for shapes in TensorFlow allow for a dynamic size."
   ]
  },
  {
   "cell_type": "code",
   "execution_count": 47,
   "metadata": {},
   "outputs": [
    {
     "name": "stdout",
     "output_type": "stream",
     "text": [
      "Image Input Tests Passed.\n",
      "Label Input Tests Passed.\n",
      "Keep Prob Tests Passed.\n"
     ]
    }
   ],
   "source": [
    "import tensorflow as tf\n",
    "\n",
    "def neural_net_image_input(image_shape):\n",
    "    \"\"\"\n",
    "    Return a Tensor for a batch of image input\n",
    "    : image_shape: Shape of the images\n",
    "    : return: Tensor for image input.\n",
    "    \"\"\"\n",
    "    # TODO: Implement Function\n",
    "    return tf.placeholder(tf.float32, shape=(None, *image_shape), name='x')\n",
    "\n",
    "\n",
    "def neural_net_label_input(n_classes):\n",
    "    \"\"\"\n",
    "    Return a Tensor for a batch of label input\n",
    "    : n_classes: Number of classes\n",
    "    : return: Tensor for label input.\n",
    "    \"\"\"\n",
    "    # TODO: Implement Function\n",
    "    return tf.placeholder(tf.float32, shape=(None, n_classes), name='y')\n",
    "\n",
    "\n",
    "def neural_net_keep_prob_input():\n",
    "    \"\"\"\n",
    "    Return a Tensor for keep probability\n",
    "    : return: Tensor for keep probability.\n",
    "    \"\"\"\n",
    "    # TODO: Implement Function\n",
    "    return tf.placeholder(tf.float32, name='keep_prob')\n",
    "\n",
    "\n",
    "\"\"\"\n",
    "DON'T MODIFY ANYTHING IN THIS CELL THAT IS BELOW THIS LINE\n",
    "\"\"\"\n",
    "tf.reset_default_graph()\n",
    "tests.test_nn_image_inputs(neural_net_image_input)\n",
    "tests.test_nn_label_inputs(neural_net_label_input)\n",
    "tests.test_nn_keep_prob_inputs(neural_net_keep_prob_input)"
   ]
  },
  {
   "cell_type": "markdown",
   "metadata": {},
   "source": [
    "### Convolution and Max Pooling Layer\n",
    "Convolution layers have a lot of success with images. For this code cell, you should implement the function `conv2d_maxpool` to apply convolution then max pooling:\n",
    "* Create the weight and bias using `conv_ksize`, `conv_num_outputs` and the shape of `x_tensor`.\n",
    "* Apply a convolution to `x_tensor` using weight and `conv_strides`.\n",
    " * We recommend you use same padding, but you're welcome to use any padding.\n",
    "* Add bias\n",
    "* Add a nonlinear activation to the convolution.\n",
    "* Apply Max Pooling using `pool_ksize` and `pool_strides`.\n",
    " * We recommend you use same padding, but you're welcome to use any padding.\n",
    "\n",
    "**Note:** You **can't** use [TensorFlow Layers](https://www.tensorflow.org/api_docs/python/tf/layers) or [TensorFlow Layers (contrib)](https://www.tensorflow.org/api_guides/python/contrib.layers) for **this** layer, but you can still use TensorFlow's [Neural Network](https://www.tensorflow.org/api_docs/python/tf/nn) package. You may still use the shortcut option for all the **other** layers."
   ]
  },
  {
   "cell_type": "code",
   "execution_count": 48,
   "metadata": {},
   "outputs": [
    {
     "name": "stdout",
     "output_type": "stream",
     "text": [
      "Tests Passed\n"
     ]
    }
   ],
   "source": [
    "def conv2d_maxpool(x_tensor, conv_num_outputs, conv_ksize, conv_strides, pool_ksize, pool_strides):\n",
    "    \"\"\"\n",
    "    Apply convolution then max pooling to x_tensor\n",
    "    :param x_tensor: TensorFlow Tensor\n",
    "    :param conv_num_outputs: Number of outputs for the convolutional layer\n",
    "    :param conv_ksize: kernal size 2-D Tuple for the convolutional layer\n",
    "    :param conv_strides: Stride 2-D Tuple for convolution\n",
    "    :param pool_ksize: kernal size 2-D Tuple for pool\n",
    "    :param pool_strides: Stride 2-D Tuple for pool\n",
    "    : return: A tensor that represents convolution and max pooling of x_tensor\n",
    "    \"\"\"\n",
    "    # TODO: Implement Function\n",
    "    dimension = x_tensor.get_shape().as_list()\n",
    "    shape = list(conv_ksize + (dimension[-1],) + (conv_num_outputs,))\n",
    "    \n",
    "    filter_weights = tf.Variable(tf.truncated_normal(shape, 0, 0.1)) # (height, width, input_depth, output_depth)\n",
    "    filter_bias = tf.Variable(tf.zeros(conv_num_outputs))\n",
    "    padding = 'SAME'\n",
    "    # print(list((1,) + conv_strides + (1,)))\n",
    "    # print(filter_weights)\n",
    "    \n",
    "    conv_layer = tf.nn.conv2d(x_tensor, filter_weights, list((1,) + conv_strides + (1,)), padding)\n",
    "    conv_layer = tf.nn.bias_add(conv_layer, filter_bias)\n",
    "    \n",
    "    conv_layer = tf.nn.relu(conv_layer)\n",
    "    \n",
    "    conv_layer = tf.nn.max_pool(\n",
    "        conv_layer,\n",
    "        ksize=[1] + list(pool_ksize) + [1],\n",
    "        strides=[1] + list(pool_strides) + [1],\n",
    "        padding='SAME')\n",
    "    return conv_layer\n",
    "\n",
    "\n",
    "\"\"\"\n",
    "DON'T MODIFY ANYTHING IN THIS CELL THAT IS BELOW THIS LINE\n",
    "\"\"\"\n",
    "tests.test_con_pool(conv2d_maxpool)"
   ]
  },
  {
   "cell_type": "markdown",
   "metadata": {},
   "source": [
    "### Flatten Layer\n",
    "Implement the `flatten` function to change the dimension of `x_tensor` from a 4-D tensor to a 2-D tensor.  The output should be the shape (*Batch Size*, *Flattened Image Size*). Shortcut option: you can use classes from the [TensorFlow Layers](https://www.tensorflow.org/api_docs/python/tf/layers) or [TensorFlow Layers (contrib)](https://www.tensorflow.org/api_guides/python/contrib.layers) packages for this layer. For more of a challenge, only use other TensorFlow packages."
   ]
  },
  {
   "cell_type": "code",
   "execution_count": 49,
   "metadata": {},
   "outputs": [
    {
     "name": "stdout",
     "output_type": "stream",
     "text": [
      "Tests Passed\n"
     ]
    }
   ],
   "source": [
    "from numpy import prod\n",
    "def flatten(x_tensor):\n",
    "    \"\"\"\n",
    "    Flatten x_tensor to (Batch Size, Flattened Image Size)\n",
    "    : x_tensor: A tensor of size (Batch Size, ...), where ... are the image dimensions.\n",
    "    : return: A tensor of size (Batch Size, Flattened Image Size).\n",
    "    \"\"\"\n",
    "    # TODO: Implement Function\n",
    "    dimension = x_tensor.get_shape().as_list()  \n",
    "    flattened = (dimension[1] * dimension[2] * dimension[3])\n",
    "    \n",
    "    return tf.reshape(x_tensor, [-1, flattened])\n",
    "\n",
    "\"\"\"\n",
    "DON'T MODIFY ANYTHING IN THIS CELL THAT IS BELOW THIS LINE\n",
    "\"\"\"\n",
    "tests.test_flatten(flatten)"
   ]
  },
  {
   "cell_type": "markdown",
   "metadata": {},
   "source": [
    "### Fully-Connected Layer\n",
    "Implement the `fully_conn` function to apply a fully connected layer to `x_tensor` with the shape (*Batch Size*, *num_outputs*). Shortcut option: you can use classes from the [TensorFlow Layers](https://www.tensorflow.org/api_docs/python/tf/layers) or [TensorFlow Layers (contrib)](https://www.tensorflow.org/api_guides/python/contrib.layers) packages for this layer. For more of a challenge, only use other TensorFlow packages."
   ]
  },
  {
   "cell_type": "code",
   "execution_count": 50,
   "metadata": {},
   "outputs": [
    {
     "name": "stdout",
     "output_type": "stream",
     "text": [
      "Tests Passed\n"
     ]
    }
   ],
   "source": [
    "def fully_conn(x_tensor, num_outputs):\n",
    "    \"\"\"\n",
    "    Apply a fully connected layer to x_tensor using weight and bias\n",
    "    : x_tensor: A 2-D tensor where the first dimension is batch size.\n",
    "    : num_outputs: The number of output that the new tensor should be.\n",
    "    : return: A 2-D tensor where the second dimension is num_outputs.\n",
    "    \"\"\"\n",
    "    # TODO: Implement Function\n",
    "    dimension = x_tensor.get_shape().as_list()\n",
    "    shape = list( (dimension[-1],) + (num_outputs,))\n",
    "    weight = tf.Variable(tf.truncated_normal(shape, 0, 0.1))\n",
    "    bias = tf.Variable(tf.zeros(num_outputs))\n",
    "    \n",
    "    return tf.nn.relu(tf.add(tf.matmul(x_tensor, weight), bias))\n",
    "\n",
    "\n",
    "\"\"\"\n",
    "DON'T MODIFY ANYTHING IN THIS CELL THAT IS BELOW THIS LINE\n",
    "\"\"\"\n",
    "tests.test_fully_conn(fully_conn)"
   ]
  },
  {
   "cell_type": "markdown",
   "metadata": {},
   "source": [
    "### Output Layer\n",
    "Implement the `output` function to apply a fully connected layer to `x_tensor` with the shape (*Batch Size*, *num_outputs*). Shortcut option: you can use classes from the [TensorFlow Layers](https://www.tensorflow.org/api_docs/python/tf/layers) or [TensorFlow Layers (contrib)](https://www.tensorflow.org/api_guides/python/contrib.layers) packages for this layer. For more of a challenge, only use other TensorFlow packages.\n",
    "\n",
    "**Note:** Activation, softmax, or cross entropy should **not** be applied to this."
   ]
  },
  {
   "cell_type": "code",
   "execution_count": 51,
   "metadata": {},
   "outputs": [
    {
     "name": "stdout",
     "output_type": "stream",
     "text": [
      "Tests Passed\n"
     ]
    }
   ],
   "source": [
    "def output(x_tensor, num_outputs):\n",
    "    \"\"\"\n",
    "    Apply a output layer to x_tensor using weight and bias\n",
    "    : x_tensor: A 2-D tensor where the first dimension is batch size.\n",
    "    : num_outputs: The number of output that the new tensor should be.\n",
    "    : return: A 2-D tensor where the second dimension is num_outputs.\n",
    "    \"\"\"\n",
    "    # TODO: Implement Function\n",
    "    dimension = x_tensor.get_shape().as_list()\n",
    "    shape = list( (dimension[-1],) + (num_outputs,))\n",
    "    weight = tf.Variable(tf.truncated_normal(shape, 0, 0.01))\n",
    "    bias = tf.Variable(tf.zeros(num_outputs))\n",
    "    \n",
    "    return tf.add(tf.matmul(x_tensor,weight), bias)\n",
    "\n",
    "\n",
    "\"\"\"\n",
    "DON'T MODIFY ANYTHING IN THIS CELL THAT IS BELOW THIS LINE\n",
    "\"\"\"\n",
    "tests.test_output(output)"
   ]
  },
  {
   "cell_type": "markdown",
   "metadata": {},
   "source": [
    "### Create Convolutional Model\n",
    "Implement the function `conv_net` to create a convolutional neural network model. The function takes in a batch of images, `x`, and outputs logits.  Use the layers you created above to create this model:\n",
    "\n",
    "* Apply 1, 2, or 3 Convolution and Max Pool layers\n",
    "* Apply a Flatten Layer\n",
    "* Apply 1, 2, or 3 Fully Connected Layers\n",
    "* Apply an Output Layer\n",
    "* Return the output\n",
    "* Apply [TensorFlow's Dropout](https://www.tensorflow.org/api_docs/python/tf/nn/dropout) to one or more layers in the model using `keep_prob`. "
   ]
  },
  {
   "cell_type": "code",
   "execution_count": 52,
   "metadata": {},
   "outputs": [
    {
     "name": "stdout",
     "output_type": "stream",
     "text": [
      "Neural Network Built!\n"
     ]
    }
   ],
   "source": [
    "def conv_net(x, keep_prob):\n",
    "    \"\"\"\n",
    "    Create a convolutional neural network model\n",
    "    : x: Placeholder tensor that holds image data.\n",
    "    : keep_prob: Placeholder tensor that hold dropout keep probability.\n",
    "    : return: Tensor that represents logits\n",
    "    \"\"\"\n",
    "    # TODO: Apply 1, 2, or 3 Convolution and Max Pool layers\n",
    "    #    Play around with different number of outputs, kernel size and stride\n",
    "    # Function Definition from Above:\n",
    "    #    conv2d_maxpool(x_tensor, conv_num_outputs, conv_ksize, conv_strides, pool_ksize, pool_strides)\n",
    "    model = conv2d_maxpool(x, conv_num_outputs=18, conv_ksize=(4,4), conv_strides=(1,1), pool_ksize=(8,8), pool_strides=(1,1))\n",
    "    model = tf.nn.dropout(model, keep_prob)\n",
    "    \n",
    "    # TODO: Apply a Flatten Layer\n",
    "    # Function Definition from Above:\n",
    "    #   flatten(x_tensor)\n",
    "    model = flatten(model)\n",
    "\n",
    "    # TODO: Apply 1, 2, or 3 Fully Connected Layers\n",
    "    #    Play around with different number of outputs\n",
    "    # Function Definition from Above:\n",
    "    #   fully_conn(x_tensor, num_outputs)\n",
    "    model = fully_conn(model, 384)\n",
    "    \n",
    "    # TODO: Apply an Output Layer\n",
    "    #    Set this to the number of classes\n",
    "    # Function Definition from Above:\n",
    "    #   output(x_tensor, num_outputs)\n",
    "    model = output(model, 10)\n",
    "    \n",
    "    # TODO: return output\n",
    "    return model\n",
    "\n",
    "\n",
    "\"\"\"\n",
    "DON'T MODIFY ANYTHING IN THIS CELL THAT IS BELOW THIS LINE\n",
    "\"\"\"\n",
    "\n",
    "##############################\n",
    "## Build the Neural Network ##\n",
    "##############################\n",
    "\n",
    "# Remove previous weights, bias, inputs, etc..\n",
    "tf.reset_default_graph()\n",
    "\n",
    "# Inputs\n",
    "x = neural_net_image_input((32, 32, 3))\n",
    "y = neural_net_label_input(10)\n",
    "keep_prob = neural_net_keep_prob_input()\n",
    "\n",
    "# Model\n",
    "logits = conv_net(x, keep_prob)\n",
    "\n",
    "# Name logits Tensor, so that is can be loaded from disk after training\n",
    "logits = tf.identity(logits, name='logits')\n",
    "\n",
    "# Loss and Optimizer\n",
    "cost = tf.reduce_mean(tf.nn.softmax_cross_entropy_with_logits(logits=logits, labels=y))\n",
    "optimizer = tf.train.AdamOptimizer().minimize(cost)\n",
    "\n",
    "# Accuracy\n",
    "correct_pred = tf.equal(tf.argmax(logits, 1), tf.argmax(y, 1))\n",
    "accuracy = tf.reduce_mean(tf.cast(correct_pred, tf.float32), name='accuracy')\n",
    "\n",
    "tests.test_conv_net(conv_net)"
   ]
  },
  {
   "cell_type": "markdown",
   "metadata": {},
   "source": [
    "## Train the Neural Network\n",
    "### Single Optimization\n",
    "Implement the function `train_neural_network` to do a single optimization.  The optimization should use `optimizer` to optimize in `session` with a `feed_dict` of the following:\n",
    "* `x` for image input\n",
    "* `y` for labels\n",
    "* `keep_prob` for keep probability for dropout\n",
    "\n",
    "This function will be called for each batch, so `tf.global_variables_initializer()` has already been called.\n",
    "\n",
    "Note: Nothing needs to be returned. This function is only optimizing the neural network."
   ]
  },
  {
   "cell_type": "code",
   "execution_count": 53,
   "metadata": {},
   "outputs": [
    {
     "name": "stdout",
     "output_type": "stream",
     "text": [
      "Tests Passed\n"
     ]
    }
   ],
   "source": [
    "def train_neural_network(session, optimizer, keep_probability, feature_batch, label_batch):\n",
    "    \"\"\"\n",
    "    Optimize the session on a batch of images and labels\n",
    "    : session: Current TensorFlow session\n",
    "    : optimizer: TensorFlow optimizer function\n",
    "    : keep_probability: keep probability\n",
    "    : feature_batch: Batch of Numpy image data\n",
    "    : label_batch: Batch of Numpy label data\n",
    "    \"\"\"\n",
    "    # TODO: Implement Function\n",
    "    session.run(optimizer, feed_dict={x:feature_batch, y:label_batch, keep_prob:keep_probability})\n",
    "\n",
    "\n",
    "\"\"\"\n",
    "DON'T MODIFY ANYTHING IN THIS CELL THAT IS BELOW THIS LINE\n",
    "\"\"\"\n",
    "tests.test_train_nn(train_neural_network)"
   ]
  },
  {
   "cell_type": "markdown",
   "metadata": {},
   "source": [
    "### Show Stats\n",
    "Implement the function `print_stats` to print loss and validation accuracy.  Use the global variables `valid_features` and `valid_labels` to calculate validation accuracy.  Use a keep probability of `1.0` to calculate the loss and validation accuracy."
   ]
  },
  {
   "cell_type": "code",
   "execution_count": 54,
   "metadata": {
    "collapsed": true
   },
   "outputs": [],
   "source": [
    "def print_stats(session, feature_batch, label_batch, cost, accuracy):\n",
    "    \"\"\"\n",
    "    Print information about loss and validation accuracy\n",
    "    : session: Current TensorFlow session\n",
    "    : feature_batch: Batch of Numpy image data\n",
    "    : label_batch: Batch of Numpy label data\n",
    "    : cost: TensorFlow cost function\n",
    "    : accuracy: TensorFlow accuracy function\n",
    "    \"\"\"\n",
    "    # TODO: Implement Function\n",
    "    loss = session.run(cost, feed_dict={x:feature_batch, y:label_batch, keep_prob:1.0})\n",
    "    valid_acc = sess.run(accuracy, feed_dict={\n",
    "                x: valid_features,\n",
    "                y: valid_labels,\n",
    "                keep_prob: 1.})\n",
    "    print('Loss: {:>10.4f} Validation Accuracy: {:.6f}'.format(\n",
    "                loss,\n",
    "                valid_acc))"
   ]
  },
  {
   "cell_type": "markdown",
   "metadata": {},
   "source": [
    "### Hyperparameters\n",
    "Tune the following parameters:\n",
    "* Set `epochs` to the number of iterations until the network stops learning or start overfitting\n",
    "* Set `batch_size` to the highest number that your machine has memory for.  Most people set them to common sizes of memory:\n",
    " * 64\n",
    " * 128\n",
    " * 256\n",
    " * ...\n",
    "* Set `keep_probability` to the probability of keeping a node using dropout"
   ]
  },
  {
   "cell_type": "code",
   "execution_count": 60,
   "metadata": {
    "collapsed": true
   },
   "outputs": [],
   "source": [
    "# TODO: Tune Parameters\n",
    "epochs = 50\n",
    "batch_size = 2048\n",
    "keep_probability = 0.8"
   ]
  },
  {
   "cell_type": "markdown",
   "metadata": {},
   "source": [
    "### Train on a Single CIFAR-10 Batch\n",
    "Instead of training the neural network on all the CIFAR-10 batches of data, let's use a single batch. This should save time while you iterate on the model to get a better accuracy.  Once the final validation accuracy is 50% or greater, run the model on all the data in the next section."
   ]
  },
  {
   "cell_type": "code",
   "execution_count": 61,
   "metadata": {
    "scrolled": false
   },
   "outputs": [
    {
     "name": "stdout",
     "output_type": "stream",
     "text": [
      "Checking the Training on a Single Batch...\n",
      "Epoch  1, CIFAR-10 Batch 1:  Loss:     2.2635 Validation Accuracy: 0.121600\n",
      "Epoch  2, CIFAR-10 Batch 1:  Loss:     2.1383 Validation Accuracy: 0.295200\n",
      "Epoch  3, CIFAR-10 Batch 1:  Loss:     1.9744 Validation Accuracy: 0.317600\n",
      "Epoch  4, CIFAR-10 Batch 1:  Loss:     1.8112 Validation Accuracy: 0.353000\n",
      "Epoch  5, CIFAR-10 Batch 1:  Loss:     1.7301 Validation Accuracy: 0.378800\n",
      "Epoch  6, CIFAR-10 Batch 1:  Loss:     1.6341 Validation Accuracy: 0.417800\n",
      "Epoch  7, CIFAR-10 Batch 1:  Loss:     1.5425 Validation Accuracy: 0.438200\n",
      "Epoch  8, CIFAR-10 Batch 1:  Loss:     1.4669 Validation Accuracy: 0.456000\n",
      "Epoch  9, CIFAR-10 Batch 1:  Loss:     1.4014 Validation Accuracy: 0.473200\n",
      "Epoch 10, CIFAR-10 Batch 1:  Loss:     1.3428 Validation Accuracy: 0.487800\n",
      "Epoch 11, CIFAR-10 Batch 1:  Loss:     1.2895 Validation Accuracy: 0.504600\n",
      "Epoch 12, CIFAR-10 Batch 1:  Loss:     1.2455 Validation Accuracy: 0.517200\n",
      "Epoch 13, CIFAR-10 Batch 1:  Loss:     1.2058 Validation Accuracy: 0.524200\n",
      "Epoch 14, CIFAR-10 Batch 1:  Loss:     1.1668 Validation Accuracy: 0.536000\n",
      "Epoch 15, CIFAR-10 Batch 1:  Loss:     1.1337 Validation Accuracy: 0.543000\n",
      "Epoch 16, CIFAR-10 Batch 1:  Loss:     1.1051 Validation Accuracy: 0.547200\n",
      "Epoch 17, CIFAR-10 Batch 1:  Loss:     1.0715 Validation Accuracy: 0.555200\n",
      "Epoch 18, CIFAR-10 Batch 1:  Loss:     1.0510 Validation Accuracy: 0.558400\n",
      "Epoch 19, CIFAR-10 Batch 1:  Loss:     1.0356 Validation Accuracy: 0.557000\n",
      "Epoch 20, CIFAR-10 Batch 1:  Loss:     1.0256 Validation Accuracy: 0.551600\n",
      "Epoch 21, CIFAR-10 Batch 1:  Loss:     1.0084 Validation Accuracy: 0.556000\n",
      "Epoch 22, CIFAR-10 Batch 1:  Loss:     0.9598 Validation Accuracy: 0.568600\n",
      "Epoch 23, CIFAR-10 Batch 1:  Loss:     0.9286 Validation Accuracy: 0.576200\n",
      "Epoch 24, CIFAR-10 Batch 1:  Loss:     0.9063 Validation Accuracy: 0.574200\n",
      "Epoch 25, CIFAR-10 Batch 1:  Loss:     0.8880 Validation Accuracy: 0.573800\n",
      "Epoch 26, CIFAR-10 Batch 1:  Loss:     0.8662 Validation Accuracy: 0.582200\n",
      "Epoch 27, CIFAR-10 Batch 1:  Loss:     0.8562 Validation Accuracy: 0.580000\n",
      "Epoch 28, CIFAR-10 Batch 1:  Loss:     0.8378 Validation Accuracy: 0.580000\n",
      "Epoch 29, CIFAR-10 Batch 1:  Loss:     0.8065 Validation Accuracy: 0.578600\n",
      "Epoch 30, CIFAR-10 Batch 1:  Loss:     0.7816 Validation Accuracy: 0.588000\n",
      "Epoch 31, CIFAR-10 Batch 1:  Loss:     0.7646 Validation Accuracy: 0.588000\n",
      "Epoch 32, CIFAR-10 Batch 1:  Loss:     0.7550 Validation Accuracy: 0.580000\n",
      "Epoch 33, CIFAR-10 Batch 1:  Loss:     0.7302 Validation Accuracy: 0.592400\n",
      "Epoch 34, CIFAR-10 Batch 1:  Loss:     0.7237 Validation Accuracy: 0.579800\n",
      "Epoch 35, CIFAR-10 Batch 1:  Loss:     0.7169 Validation Accuracy: 0.582000\n",
      "Epoch 36, CIFAR-10 Batch 1:  Loss:     0.6926 Validation Accuracy: 0.580400\n",
      "Epoch 37, CIFAR-10 Batch 1:  Loss:     0.6482 Validation Accuracy: 0.599400\n",
      "Epoch 38, CIFAR-10 Batch 1:  Loss:     0.6406 Validation Accuracy: 0.594800\n",
      "Epoch 39, CIFAR-10 Batch 1:  Loss:     0.6203 Validation Accuracy: 0.596800\n",
      "Epoch 40, CIFAR-10 Batch 1:  Loss:     0.5913 Validation Accuracy: 0.601400\n",
      "Epoch 41, CIFAR-10 Batch 1:  Loss:     0.5844 Validation Accuracy: 0.599400\n",
      "Epoch 42, CIFAR-10 Batch 1:  Loss:     0.5576 Validation Accuracy: 0.602400\n",
      "Epoch 43, CIFAR-10 Batch 1:  Loss:     0.5461 Validation Accuracy: 0.599200\n",
      "Epoch 44, CIFAR-10 Batch 1:  Loss:     0.5271 Validation Accuracy: 0.603600\n",
      "Epoch 45, CIFAR-10 Batch 1:  Loss:     0.5168 Validation Accuracy: 0.599600\n",
      "Epoch 46, CIFAR-10 Batch 1:  Loss:     0.4969 Validation Accuracy: 0.603400\n",
      "Epoch 47, CIFAR-10 Batch 1:  Loss:     0.4755 Validation Accuracy: 0.599200\n",
      "Epoch 48, CIFAR-10 Batch 1:  Loss:     0.4819 Validation Accuracy: 0.593600\n",
      "Epoch 49, CIFAR-10 Batch 1:  Loss:     0.4461 Validation Accuracy: 0.601600\n",
      "Epoch 50, CIFAR-10 Batch 1:  Loss:     0.4292 Validation Accuracy: 0.604200\n"
     ]
    }
   ],
   "source": [
    "\"\"\"\n",
    "DON'T MODIFY ANYTHING IN THIS CELL\n",
    "\"\"\"\n",
    "print('Checking the Training on a Single Batch...')\n",
    "with tf.Session() as sess:\n",
    "    # Initializing the variables\n",
    "    sess.run(tf.global_variables_initializer())\n",
    "    \n",
    "    # Training cycle\n",
    "    for epoch in range(epochs):\n",
    "        batch_i = 1\n",
    "        for batch_features, batch_labels in helper.load_preprocess_training_batch(batch_i, batch_size):\n",
    "            train_neural_network(sess, optimizer, keep_probability, batch_features, batch_labels)\n",
    "        print('Epoch {:>2}, CIFAR-10 Batch {}:  '.format(epoch + 1, batch_i), end='')\n",
    "        print_stats(sess, batch_features, batch_labels, cost, accuracy)"
   ]
  },
  {
   "cell_type": "markdown",
   "metadata": {},
   "source": [
    "### Fully Train the Model\n",
    "Now that you got a good accuracy with a single CIFAR-10 batch, try it with all five batches."
   ]
  },
  {
   "cell_type": "code",
   "execution_count": 62,
   "metadata": {
    "scrolled": false
   },
   "outputs": [
    {
     "name": "stdout",
     "output_type": "stream",
     "text": [
      "Training...\n",
      "Epoch  1, CIFAR-10 Batch 1:  Loss:     2.2352 Validation Accuracy: 0.237400\n",
      "Epoch  1, CIFAR-10 Batch 2:  Loss:     2.0343 Validation Accuracy: 0.298000\n",
      "Epoch  1, CIFAR-10 Batch 3:  Loss:     1.8009 Validation Accuracy: 0.355200\n",
      "Epoch  1, CIFAR-10 Batch 4:  Loss:     1.6646 Validation Accuracy: 0.380600\n",
      "Epoch  1, CIFAR-10 Batch 5:  Loss:     1.6647 Validation Accuracy: 0.399800\n",
      "Epoch  2, CIFAR-10 Batch 1:  Loss:     1.5463 Validation Accuracy: 0.440000\n",
      "Epoch  2, CIFAR-10 Batch 2:  Loss:     1.4863 Validation Accuracy: 0.459200\n",
      "Epoch  2, CIFAR-10 Batch 3:  Loss:     1.4521 Validation Accuracy: 0.460000\n",
      "Epoch  2, CIFAR-10 Batch 4:  Loss:     1.3946 Validation Accuracy: 0.485200\n",
      "Epoch  2, CIFAR-10 Batch 5:  Loss:     1.4211 Validation Accuracy: 0.492400\n",
      "Epoch  3, CIFAR-10 Batch 1:  Loss:     1.3530 Validation Accuracy: 0.500000\n",
      "Epoch  3, CIFAR-10 Batch 2:  Loss:     1.3457 Validation Accuracy: 0.509600\n",
      "Epoch  3, CIFAR-10 Batch 3:  Loss:     1.3100 Validation Accuracy: 0.508000\n",
      "Epoch  3, CIFAR-10 Batch 4:  Loss:     1.2810 Validation Accuracy: 0.521800\n",
      "Epoch  3, CIFAR-10 Batch 5:  Loss:     1.3018 Validation Accuracy: 0.530200\n",
      "Epoch  4, CIFAR-10 Batch 1:  Loss:     1.2442 Validation Accuracy: 0.544400\n",
      "Epoch  4, CIFAR-10 Batch 2:  Loss:     1.2528 Validation Accuracy: 0.537400\n",
      "Epoch  4, CIFAR-10 Batch 3:  Loss:     1.1940 Validation Accuracy: 0.545400\n",
      "Epoch  4, CIFAR-10 Batch 4:  Loss:     1.1723 Validation Accuracy: 0.562000\n",
      "Epoch  4, CIFAR-10 Batch 5:  Loss:     1.2149 Validation Accuracy: 0.563200\n",
      "Epoch  5, CIFAR-10 Batch 1:  Loss:     1.1716 Validation Accuracy: 0.567600\n",
      "Epoch  5, CIFAR-10 Batch 2:  Loss:     1.1775 Validation Accuracy: 0.567400\n",
      "Epoch  5, CIFAR-10 Batch 3:  Loss:     1.1107 Validation Accuracy: 0.568000\n",
      "Epoch  5, CIFAR-10 Batch 4:  Loss:     1.0985 Validation Accuracy: 0.578800\n",
      "Epoch  5, CIFAR-10 Batch 5:  Loss:     1.1329 Validation Accuracy: 0.584600\n",
      "Epoch  6, CIFAR-10 Batch 1:  Loss:     1.1036 Validation Accuracy: 0.593200\n",
      "Epoch  6, CIFAR-10 Batch 2:  Loss:     1.1112 Validation Accuracy: 0.585200\n",
      "Epoch  6, CIFAR-10 Batch 3:  Loss:     1.0526 Validation Accuracy: 0.586000\n",
      "Epoch  6, CIFAR-10 Batch 4:  Loss:     1.0357 Validation Accuracy: 0.591600\n",
      "Epoch  6, CIFAR-10 Batch 5:  Loss:     1.0715 Validation Accuracy: 0.594400\n",
      "Epoch  7, CIFAR-10 Batch 1:  Loss:     1.0482 Validation Accuracy: 0.603400\n",
      "Epoch  7, CIFAR-10 Batch 2:  Loss:     1.0592 Validation Accuracy: 0.603800\n",
      "Epoch  7, CIFAR-10 Batch 3:  Loss:     1.0057 Validation Accuracy: 0.598800\n",
      "Epoch  7, CIFAR-10 Batch 4:  Loss:     0.9863 Validation Accuracy: 0.604200\n",
      "Epoch  7, CIFAR-10 Batch 5:  Loss:     1.0137 Validation Accuracy: 0.608000\n",
      "Epoch  8, CIFAR-10 Batch 1:  Loss:     1.0104 Validation Accuracy: 0.614800\n",
      "Epoch  8, CIFAR-10 Batch 2:  Loss:     1.0102 Validation Accuracy: 0.616200\n",
      "Epoch  8, CIFAR-10 Batch 3:  Loss:     0.9649 Validation Accuracy: 0.614600\n",
      "Epoch  8, CIFAR-10 Batch 4:  Loss:     0.9501 Validation Accuracy: 0.609200\n",
      "Epoch  8, CIFAR-10 Batch 5:  Loss:     0.9682 Validation Accuracy: 0.614800\n",
      "Epoch  9, CIFAR-10 Batch 1:  Loss:     0.9764 Validation Accuracy: 0.620400\n",
      "Epoch  9, CIFAR-10 Batch 2:  Loss:     0.9680 Validation Accuracy: 0.625800\n",
      "Epoch  9, CIFAR-10 Batch 3:  Loss:     0.9157 Validation Accuracy: 0.625000\n",
      "Epoch  9, CIFAR-10 Batch 4:  Loss:     0.9245 Validation Accuracy: 0.613000\n",
      "Epoch  9, CIFAR-10 Batch 5:  Loss:     0.9238 Validation Accuracy: 0.623000\n",
      "Epoch 10, CIFAR-10 Batch 1:  Loss:     0.9411 Validation Accuracy: 0.628800\n",
      "Epoch 10, CIFAR-10 Batch 2:  Loss:     0.9416 Validation Accuracy: 0.621400\n",
      "Epoch 10, CIFAR-10 Batch 3:  Loss:     0.8948 Validation Accuracy: 0.626400\n",
      "Epoch 10, CIFAR-10 Batch 4:  Loss:     0.8952 Validation Accuracy: 0.618600\n",
      "Epoch 10, CIFAR-10 Batch 5:  Loss:     0.8963 Validation Accuracy: 0.629400\n",
      "Epoch 11, CIFAR-10 Batch 1:  Loss:     0.9009 Validation Accuracy: 0.640400\n",
      "Epoch 11, CIFAR-10 Batch 2:  Loss:     0.8984 Validation Accuracy: 0.639000\n",
      "Epoch 11, CIFAR-10 Batch 3:  Loss:     0.8443 Validation Accuracy: 0.633200\n",
      "Epoch 11, CIFAR-10 Batch 4:  Loss:     0.8575 Validation Accuracy: 0.632000\n",
      "Epoch 11, CIFAR-10 Batch 5:  Loss:     0.8515 Validation Accuracy: 0.641800\n",
      "Epoch 12, CIFAR-10 Batch 1:  Loss:     0.8741 Validation Accuracy: 0.643600\n",
      "Epoch 12, CIFAR-10 Batch 2:  Loss:     0.8749 Validation Accuracy: 0.636400\n",
      "Epoch 12, CIFAR-10 Batch 3:  Loss:     0.8172 Validation Accuracy: 0.637000\n",
      "Epoch 12, CIFAR-10 Batch 4:  Loss:     0.8227 Validation Accuracy: 0.637000\n",
      "Epoch 12, CIFAR-10 Batch 5:  Loss:     0.8359 Validation Accuracy: 0.638600\n",
      "Epoch 13, CIFAR-10 Batch 1:  Loss:     0.8517 Validation Accuracy: 0.644800\n",
      "Epoch 13, CIFAR-10 Batch 2:  Loss:     0.8457 Validation Accuracy: 0.648800\n",
      "Epoch 13, CIFAR-10 Batch 3:  Loss:     0.7925 Validation Accuracy: 0.642800\n",
      "Epoch 13, CIFAR-10 Batch 4:  Loss:     0.7852 Validation Accuracy: 0.644000\n",
      "Epoch 13, CIFAR-10 Batch 5:  Loss:     0.8175 Validation Accuracy: 0.634600\n",
      "Epoch 14, CIFAR-10 Batch 1:  Loss:     0.8158 Validation Accuracy: 0.643600\n",
      "Epoch 14, CIFAR-10 Batch 2:  Loss:     0.8241 Validation Accuracy: 0.650400\n",
      "Epoch 14, CIFAR-10 Batch 3:  Loss:     0.7610 Validation Accuracy: 0.647400\n",
      "Epoch 14, CIFAR-10 Batch 4:  Loss:     0.7704 Validation Accuracy: 0.639600\n",
      "Epoch 14, CIFAR-10 Batch 5:  Loss:     0.7750 Validation Accuracy: 0.643400\n",
      "Epoch 15, CIFAR-10 Batch 1:  Loss:     0.7947 Validation Accuracy: 0.656200\n",
      "Epoch 15, CIFAR-10 Batch 2:  Loss:     0.7972 Validation Accuracy: 0.653800\n",
      "Epoch 15, CIFAR-10 Batch 3:  Loss:     0.7435 Validation Accuracy: 0.653200\n",
      "Epoch 15, CIFAR-10 Batch 4:  Loss:     0.7569 Validation Accuracy: 0.640200\n",
      "Epoch 15, CIFAR-10 Batch 5:  Loss:     0.7570 Validation Accuracy: 0.648200\n",
      "Epoch 16, CIFAR-10 Batch 1:  Loss:     0.7900 Validation Accuracy: 0.645800\n",
      "Epoch 16, CIFAR-10 Batch 2:  Loss:     0.7849 Validation Accuracy: 0.648400\n",
      "Epoch 16, CIFAR-10 Batch 3:  Loss:     0.7274 Validation Accuracy: 0.655600\n",
      "Epoch 16, CIFAR-10 Batch 4:  Loss:     0.7199 Validation Accuracy: 0.651600\n",
      "Epoch 16, CIFAR-10 Batch 5:  Loss:     0.7150 Validation Accuracy: 0.657200\n",
      "Epoch 17, CIFAR-10 Batch 1:  Loss:     0.7421 Validation Accuracy: 0.659600\n",
      "Epoch 17, CIFAR-10 Batch 2:  Loss:     0.7459 Validation Accuracy: 0.667800\n",
      "Epoch 17, CIFAR-10 Batch 3:  Loss:     0.6857 Validation Accuracy: 0.668800\n",
      "Epoch 17, CIFAR-10 Batch 4:  Loss:     0.6833 Validation Accuracy: 0.655800\n",
      "Epoch 17, CIFAR-10 Batch 5:  Loss:     0.6933 Validation Accuracy: 0.659600\n",
      "Epoch 18, CIFAR-10 Batch 1:  Loss:     0.7196 Validation Accuracy: 0.665600\n",
      "Epoch 18, CIFAR-10 Batch 2:  Loss:     0.7210 Validation Accuracy: 0.662600\n",
      "Epoch 18, CIFAR-10 Batch 3:  Loss:     0.6628 Validation Accuracy: 0.665800\n",
      "Epoch 18, CIFAR-10 Batch 4:  Loss:     0.6629 Validation Accuracy: 0.658800\n",
      "Epoch 18, CIFAR-10 Batch 5:  Loss:     0.6778 Validation Accuracy: 0.654600\n",
      "Epoch 19, CIFAR-10 Batch 1:  Loss:     0.6915 Validation Accuracy: 0.663400\n",
      "Epoch 19, CIFAR-10 Batch 2:  Loss:     0.7068 Validation Accuracy: 0.666800\n",
      "Epoch 19, CIFAR-10 Batch 3:  Loss:     0.6416 Validation Accuracy: 0.667400\n",
      "Epoch 19, CIFAR-10 Batch 4:  Loss:     0.6371 Validation Accuracy: 0.662400\n",
      "Epoch 19, CIFAR-10 Batch 5:  Loss:     0.6531 Validation Accuracy: 0.661200\n",
      "Epoch 20, CIFAR-10 Batch 1:  Loss:     0.6650 Validation Accuracy: 0.670000\n",
      "Epoch 20, CIFAR-10 Batch 2:  Loss:     0.6804 Validation Accuracy: 0.662800\n",
      "Epoch 20, CIFAR-10 Batch 3:  Loss:     0.6181 Validation Accuracy: 0.668000\n",
      "Epoch 20, CIFAR-10 Batch 4:  Loss:     0.6275 Validation Accuracy: 0.660200\n",
      "Epoch 20, CIFAR-10 Batch 5:  Loss:     0.6206 Validation Accuracy: 0.661000\n",
      "Epoch 21, CIFAR-10 Batch 1:  Loss:     0.6490 Validation Accuracy: 0.670800\n",
      "Epoch 21, CIFAR-10 Batch 2:  Loss:     0.6703 Validation Accuracy: 0.662400\n",
      "Epoch 21, CIFAR-10 Batch 3:  Loss:     0.6048 Validation Accuracy: 0.665400\n",
      "Epoch 21, CIFAR-10 Batch 4:  Loss:     0.6139 Validation Accuracy: 0.662600\n",
      "Epoch 21, CIFAR-10 Batch 5:  Loss:     0.6033 Validation Accuracy: 0.660000\n",
      "Epoch 22, CIFAR-10 Batch 1:  Loss:     0.6414 Validation Accuracy: 0.664200\n",
      "Epoch 22, CIFAR-10 Batch 2:  Loss:     0.6455 Validation Accuracy: 0.669400\n",
      "Epoch 22, CIFAR-10 Batch 3:  Loss:     0.5839 Validation Accuracy: 0.674000\n"
     ]
    },
    {
     "name": "stdout",
     "output_type": "stream",
     "text": [
      "Epoch 22, CIFAR-10 Batch 4:  Loss:     0.5897 Validation Accuracy: 0.667600\n",
      "Epoch 22, CIFAR-10 Batch 5:  Loss:     0.5918 Validation Accuracy: 0.660200\n",
      "Epoch 23, CIFAR-10 Batch 1:  Loss:     0.6265 Validation Accuracy: 0.663200\n",
      "Epoch 23, CIFAR-10 Batch 2:  Loss:     0.6333 Validation Accuracy: 0.666000\n",
      "Epoch 23, CIFAR-10 Batch 3:  Loss:     0.5755 Validation Accuracy: 0.669200\n",
      "Epoch 23, CIFAR-10 Batch 4:  Loss:     0.5787 Validation Accuracy: 0.670000\n",
      "Epoch 23, CIFAR-10 Batch 5:  Loss:     0.5921 Validation Accuracy: 0.654000\n",
      "Epoch 24, CIFAR-10 Batch 1:  Loss:     0.6094 Validation Accuracy: 0.667800\n",
      "Epoch 24, CIFAR-10 Batch 2:  Loss:     0.6475 Validation Accuracy: 0.654400\n",
      "Epoch 24, CIFAR-10 Batch 3:  Loss:     0.5751 Validation Accuracy: 0.662000\n",
      "Epoch 24, CIFAR-10 Batch 4:  Loss:     0.5593 Validation Accuracy: 0.675200\n",
      "Epoch 24, CIFAR-10 Batch 5:  Loss:     0.5516 Validation Accuracy: 0.664600\n",
      "Epoch 25, CIFAR-10 Batch 1:  Loss:     0.5832 Validation Accuracy: 0.673200\n",
      "Epoch 25, CIFAR-10 Batch 2:  Loss:     0.5997 Validation Accuracy: 0.672600\n",
      "Epoch 25, CIFAR-10 Batch 3:  Loss:     0.5376 Validation Accuracy: 0.678000\n",
      "Epoch 25, CIFAR-10 Batch 4:  Loss:     0.5365 Validation Accuracy: 0.671800\n",
      "Epoch 25, CIFAR-10 Batch 5:  Loss:     0.5239 Validation Accuracy: 0.675400\n",
      "Epoch 26, CIFAR-10 Batch 1:  Loss:     0.5489 Validation Accuracy: 0.682800\n",
      "Epoch 26, CIFAR-10 Batch 2:  Loss:     0.5858 Validation Accuracy: 0.667600\n",
      "Epoch 26, CIFAR-10 Batch 3:  Loss:     0.5387 Validation Accuracy: 0.667200\n",
      "Epoch 26, CIFAR-10 Batch 4:  Loss:     0.5244 Validation Accuracy: 0.672400\n",
      "Epoch 26, CIFAR-10 Batch 5:  Loss:     0.5023 Validation Accuracy: 0.675600\n",
      "Epoch 27, CIFAR-10 Batch 1:  Loss:     0.5406 Validation Accuracy: 0.684400\n",
      "Epoch 27, CIFAR-10 Batch 2:  Loss:     0.5643 Validation Accuracy: 0.675400\n",
      "Epoch 27, CIFAR-10 Batch 3:  Loss:     0.5166 Validation Accuracy: 0.671000\n",
      "Epoch 27, CIFAR-10 Batch 4:  Loss:     0.5110 Validation Accuracy: 0.679000\n",
      "Epoch 27, CIFAR-10 Batch 5:  Loss:     0.4811 Validation Accuracy: 0.680200\n",
      "Epoch 28, CIFAR-10 Batch 1:  Loss:     0.5310 Validation Accuracy: 0.682400\n",
      "Epoch 28, CIFAR-10 Batch 2:  Loss:     0.5613 Validation Accuracy: 0.673200\n",
      "Epoch 28, CIFAR-10 Batch 3:  Loss:     0.5131 Validation Accuracy: 0.675400\n",
      "Epoch 28, CIFAR-10 Batch 4:  Loss:     0.5089 Validation Accuracy: 0.680200\n",
      "Epoch 28, CIFAR-10 Batch 5:  Loss:     0.4880 Validation Accuracy: 0.680800\n",
      "Epoch 29, CIFAR-10 Batch 1:  Loss:     0.5294 Validation Accuracy: 0.679200\n",
      "Epoch 29, CIFAR-10 Batch 2:  Loss:     0.5336 Validation Accuracy: 0.675200\n",
      "Epoch 29, CIFAR-10 Batch 3:  Loss:     0.4849 Validation Accuracy: 0.678000\n",
      "Epoch 29, CIFAR-10 Batch 4:  Loss:     0.4873 Validation Accuracy: 0.676400\n",
      "Epoch 29, CIFAR-10 Batch 5:  Loss:     0.4469 Validation Accuracy: 0.685000\n",
      "Epoch 30, CIFAR-10 Batch 1:  Loss:     0.4874 Validation Accuracy: 0.687600\n",
      "Epoch 30, CIFAR-10 Batch 2:  Loss:     0.4915 Validation Accuracy: 0.685800\n",
      "Epoch 30, CIFAR-10 Batch 3:  Loss:     0.4540 Validation Accuracy: 0.679400\n",
      "Epoch 30, CIFAR-10 Batch 4:  Loss:     0.4607 Validation Accuracy: 0.680000\n",
      "Epoch 30, CIFAR-10 Batch 5:  Loss:     0.4236 Validation Accuracy: 0.688000\n",
      "Epoch 31, CIFAR-10 Batch 1:  Loss:     0.4647 Validation Accuracy: 0.690600\n",
      "Epoch 31, CIFAR-10 Batch 2:  Loss:     0.4696 Validation Accuracy: 0.687400\n",
      "Epoch 31, CIFAR-10 Batch 3:  Loss:     0.4324 Validation Accuracy: 0.682200\n",
      "Epoch 31, CIFAR-10 Batch 4:  Loss:     0.4387 Validation Accuracy: 0.679400\n",
      "Epoch 31, CIFAR-10 Batch 5:  Loss:     0.4077 Validation Accuracy: 0.684800\n",
      "Epoch 32, CIFAR-10 Batch 1:  Loss:     0.4471 Validation Accuracy: 0.691000\n",
      "Epoch 32, CIFAR-10 Batch 2:  Loss:     0.4540 Validation Accuracy: 0.689800\n",
      "Epoch 32, CIFAR-10 Batch 3:  Loss:     0.4068 Validation Accuracy: 0.689200\n",
      "Epoch 32, CIFAR-10 Batch 4:  Loss:     0.4247 Validation Accuracy: 0.678600\n",
      "Epoch 32, CIFAR-10 Batch 5:  Loss:     0.3948 Validation Accuracy: 0.688800\n",
      "Epoch 33, CIFAR-10 Batch 1:  Loss:     0.4279 Validation Accuracy: 0.696800\n",
      "Epoch 33, CIFAR-10 Batch 2:  Loss:     0.4355 Validation Accuracy: 0.697200\n",
      "Epoch 33, CIFAR-10 Batch 3:  Loss:     0.3924 Validation Accuracy: 0.686000\n",
      "Epoch 33, CIFAR-10 Batch 4:  Loss:     0.4110 Validation Accuracy: 0.680800\n",
      "Epoch 33, CIFAR-10 Batch 5:  Loss:     0.3886 Validation Accuracy: 0.687600\n",
      "Epoch 34, CIFAR-10 Batch 1:  Loss:     0.4260 Validation Accuracy: 0.694200\n",
      "Epoch 34, CIFAR-10 Batch 2:  Loss:     0.4277 Validation Accuracy: 0.693600\n",
      "Epoch 34, CIFAR-10 Batch 3:  Loss:     0.3843 Validation Accuracy: 0.685200\n",
      "Epoch 34, CIFAR-10 Batch 4:  Loss:     0.3992 Validation Accuracy: 0.681600\n",
      "Epoch 34, CIFAR-10 Batch 5:  Loss:     0.3754 Validation Accuracy: 0.679800\n",
      "Epoch 35, CIFAR-10 Batch 1:  Loss:     0.4189 Validation Accuracy: 0.691600\n",
      "Epoch 35, CIFAR-10 Batch 2:  Loss:     0.4218 Validation Accuracy: 0.691200\n",
      "Epoch 35, CIFAR-10 Batch 3:  Loss:     0.3807 Validation Accuracy: 0.683400\n",
      "Epoch 35, CIFAR-10 Batch 4:  Loss:     0.4096 Validation Accuracy: 0.673200\n",
      "Epoch 35, CIFAR-10 Batch 5:  Loss:     0.3728 Validation Accuracy: 0.678200\n",
      "Epoch 36, CIFAR-10 Batch 1:  Loss:     0.4009 Validation Accuracy: 0.693800\n",
      "Epoch 36, CIFAR-10 Batch 2:  Loss:     0.3968 Validation Accuracy: 0.695800\n",
      "Epoch 36, CIFAR-10 Batch 3:  Loss:     0.3757 Validation Accuracy: 0.683200\n",
      "Epoch 36, CIFAR-10 Batch 4:  Loss:     0.3815 Validation Accuracy: 0.682800\n",
      "Epoch 36, CIFAR-10 Batch 5:  Loss:     0.3621 Validation Accuracy: 0.673800\n",
      "Epoch 37, CIFAR-10 Batch 1:  Loss:     0.3906 Validation Accuracy: 0.690600\n",
      "Epoch 37, CIFAR-10 Batch 2:  Loss:     0.3934 Validation Accuracy: 0.689800\n",
      "Epoch 37, CIFAR-10 Batch 3:  Loss:     0.3783 Validation Accuracy: 0.680600\n",
      "Epoch 37, CIFAR-10 Batch 4:  Loss:     0.3857 Validation Accuracy: 0.676000\n",
      "Epoch 37, CIFAR-10 Batch 5:  Loss:     0.3518 Validation Accuracy: 0.678600\n",
      "Epoch 38, CIFAR-10 Batch 1:  Loss:     0.3940 Validation Accuracy: 0.695000\n",
      "Epoch 38, CIFAR-10 Batch 2:  Loss:     0.3880 Validation Accuracy: 0.693000\n",
      "Epoch 38, CIFAR-10 Batch 3:  Loss:     0.3620 Validation Accuracy: 0.681400\n",
      "Epoch 38, CIFAR-10 Batch 4:  Loss:     0.3467 Validation Accuracy: 0.690400\n",
      "Epoch 38, CIFAR-10 Batch 5:  Loss:     0.3456 Validation Accuracy: 0.674200\n",
      "Epoch 39, CIFAR-10 Batch 1:  Loss:     0.3868 Validation Accuracy: 0.685800\n",
      "Epoch 39, CIFAR-10 Batch 2:  Loss:     0.4068 Validation Accuracy: 0.682800\n",
      "Epoch 39, CIFAR-10 Batch 3:  Loss:     0.3531 Validation Accuracy: 0.686800\n",
      "Epoch 39, CIFAR-10 Batch 4:  Loss:     0.3526 Validation Accuracy: 0.682200\n",
      "Epoch 39, CIFAR-10 Batch 5:  Loss:     0.3245 Validation Accuracy: 0.685200\n",
      "Epoch 40, CIFAR-10 Batch 1:  Loss:     0.4087 Validation Accuracy: 0.665000\n",
      "Epoch 40, CIFAR-10 Batch 2:  Loss:     0.3757 Validation Accuracy: 0.684200\n",
      "Epoch 40, CIFAR-10 Batch 3:  Loss:     0.3766 Validation Accuracy: 0.675800\n",
      "Epoch 40, CIFAR-10 Batch 4:  Loss:     0.3610 Validation Accuracy: 0.670600\n",
      "Epoch 40, CIFAR-10 Batch 5:  Loss:     0.3301 Validation Accuracy: 0.682000\n",
      "Epoch 41, CIFAR-10 Batch 1:  Loss:     0.3654 Validation Accuracy: 0.682200\n",
      "Epoch 41, CIFAR-10 Batch 2:  Loss:     0.3556 Validation Accuracy: 0.688600\n",
      "Epoch 41, CIFAR-10 Batch 3:  Loss:     0.3282 Validation Accuracy: 0.686800\n",
      "Epoch 41, CIFAR-10 Batch 4:  Loss:     0.3167 Validation Accuracy: 0.687600\n",
      "Epoch 41, CIFAR-10 Batch 5:  Loss:     0.2955 Validation Accuracy: 0.687800\n",
      "Epoch 42, CIFAR-10 Batch 1:  Loss:     0.3386 Validation Accuracy: 0.688400\n",
      "Epoch 42, CIFAR-10 Batch 2:  Loss:     0.3265 Validation Accuracy: 0.694600\n",
      "Epoch 42, CIFAR-10 Batch 3:  Loss:     0.3015 Validation Accuracy: 0.689400\n",
      "Epoch 42, CIFAR-10 Batch 4:  Loss:     0.3021 Validation Accuracy: 0.682400\n",
      "Epoch 42, CIFAR-10 Batch 5:  Loss:     0.2840 Validation Accuracy: 0.685000\n",
      "Epoch 43, CIFAR-10 Batch 1:  Loss:     0.3255 Validation Accuracy: 0.688600\n",
      "Epoch 43, CIFAR-10 Batch 2:  Loss:     0.3123 Validation Accuracy: 0.694000\n",
      "Epoch 43, CIFAR-10 Batch 3:  Loss:     0.2954 Validation Accuracy: 0.686600\n",
      "Epoch 43, CIFAR-10 Batch 4:  Loss:     0.2894 Validation Accuracy: 0.687200\n",
      "Epoch 43, CIFAR-10 Batch 5:  Loss:     0.2617 Validation Accuracy: 0.690800\n",
      "Epoch 44, CIFAR-10 Batch 1:  Loss:     0.3179 Validation Accuracy: 0.688200\n"
     ]
    },
    {
     "name": "stdout",
     "output_type": "stream",
     "text": [
      "Epoch 44, CIFAR-10 Batch 2:  Loss:     0.2987 Validation Accuracy: 0.696600\n",
      "Epoch 44, CIFAR-10 Batch 3:  Loss:     0.2829 Validation Accuracy: 0.687000\n",
      "Epoch 44, CIFAR-10 Batch 4:  Loss:     0.2820 Validation Accuracy: 0.681000\n",
      "Epoch 44, CIFAR-10 Batch 5:  Loss:     0.2588 Validation Accuracy: 0.690000\n",
      "Epoch 45, CIFAR-10 Batch 1:  Loss:     0.3071 Validation Accuracy: 0.686400\n",
      "Epoch 45, CIFAR-10 Batch 2:  Loss:     0.2938 Validation Accuracy: 0.691400\n",
      "Epoch 45, CIFAR-10 Batch 3:  Loss:     0.2796 Validation Accuracy: 0.689200\n",
      "Epoch 45, CIFAR-10 Batch 4:  Loss:     0.2759 Validation Accuracy: 0.684400\n",
      "Epoch 45, CIFAR-10 Batch 5:  Loss:     0.2560 Validation Accuracy: 0.684800\n",
      "Epoch 46, CIFAR-10 Batch 1:  Loss:     0.2898 Validation Accuracy: 0.687200\n",
      "Epoch 46, CIFAR-10 Batch 2:  Loss:     0.2852 Validation Accuracy: 0.691400\n",
      "Epoch 46, CIFAR-10 Batch 3:  Loss:     0.2683 Validation Accuracy: 0.685600\n",
      "Epoch 46, CIFAR-10 Batch 4:  Loss:     0.2561 Validation Accuracy: 0.685400\n",
      "Epoch 46, CIFAR-10 Batch 5:  Loss:     0.2498 Validation Accuracy: 0.683400\n",
      "Epoch 47, CIFAR-10 Batch 1:  Loss:     0.2723 Validation Accuracy: 0.693400\n",
      "Epoch 47, CIFAR-10 Batch 2:  Loss:     0.2772 Validation Accuracy: 0.691800\n",
      "Epoch 47, CIFAR-10 Batch 3:  Loss:     0.2583 Validation Accuracy: 0.688800\n",
      "Epoch 47, CIFAR-10 Batch 4:  Loss:     0.2540 Validation Accuracy: 0.680000\n",
      "Epoch 47, CIFAR-10 Batch 5:  Loss:     0.2463 Validation Accuracy: 0.678200\n",
      "Epoch 48, CIFAR-10 Batch 1:  Loss:     0.2732 Validation Accuracy: 0.684800\n",
      "Epoch 48, CIFAR-10 Batch 2:  Loss:     0.2801 Validation Accuracy: 0.690600\n",
      "Epoch 48, CIFAR-10 Batch 3:  Loss:     0.2566 Validation Accuracy: 0.689400\n",
      "Epoch 48, CIFAR-10 Batch 4:  Loss:     0.2597 Validation Accuracy: 0.676400\n",
      "Epoch 48, CIFAR-10 Batch 5:  Loss:     0.2313 Validation Accuracy: 0.689600\n",
      "Epoch 49, CIFAR-10 Batch 1:  Loss:     0.2747 Validation Accuracy: 0.685400\n",
      "Epoch 49, CIFAR-10 Batch 2:  Loss:     0.2688 Validation Accuracy: 0.689800\n",
      "Epoch 49, CIFAR-10 Batch 3:  Loss:     0.2435 Validation Accuracy: 0.689800\n",
      "Epoch 49, CIFAR-10 Batch 4:  Loss:     0.2545 Validation Accuracy: 0.680800\n",
      "Epoch 49, CIFAR-10 Batch 5:  Loss:     0.2143 Validation Accuracy: 0.696200\n",
      "Epoch 50, CIFAR-10 Batch 1:  Loss:     0.2706 Validation Accuracy: 0.681000\n",
      "Epoch 50, CIFAR-10 Batch 2:  Loss:     0.2510 Validation Accuracy: 0.689000\n",
      "Epoch 50, CIFAR-10 Batch 3:  Loss:     0.2605 Validation Accuracy: 0.672600\n",
      "Epoch 50, CIFAR-10 Batch 4:  Loss:     0.2578 Validation Accuracy: 0.677000\n",
      "Epoch 50, CIFAR-10 Batch 5:  Loss:     0.2364 Validation Accuracy: 0.687000\n"
     ]
    }
   ],
   "source": [
    "\"\"\"\n",
    "DON'T MODIFY ANYTHING IN THIS CELL\n",
    "\"\"\"\n",
    "save_model_path = './image_classification'\n",
    "\n",
    "print('Training...')\n",
    "with tf.Session() as sess:\n",
    "    # Initializing the variables\n",
    "    sess.run(tf.global_variables_initializer())\n",
    "    \n",
    "    # Training cycle\n",
    "    for epoch in range(epochs):\n",
    "        # Loop over all batches\n",
    "        n_batches = 5\n",
    "        for batch_i in range(1, n_batches + 1):\n",
    "            for batch_features, batch_labels in helper.load_preprocess_training_batch(batch_i, batch_size):\n",
    "                train_neural_network(sess, optimizer, keep_probability, batch_features, batch_labels)\n",
    "            print('Epoch {:>2}, CIFAR-10 Batch {}:  '.format(epoch + 1, batch_i), end='')\n",
    "            print_stats(sess, batch_features, batch_labels, cost, accuracy)\n",
    "            \n",
    "    # Save Model\n",
    "    saver = tf.train.Saver()\n",
    "    save_path = saver.save(sess, save_model_path)"
   ]
  },
  {
   "cell_type": "markdown",
   "metadata": {},
   "source": [
    "# Checkpoint\n",
    "The model has been saved to disk.\n",
    "## Test Model\n",
    "Test your model against the test dataset.  This will be your final accuracy. You should have an accuracy greater than 50%. If you don't, keep tweaking the model architecture and parameters."
   ]
  },
  {
   "cell_type": "code",
   "execution_count": 63,
   "metadata": {},
   "outputs": [
    {
     "name": "stdout",
     "output_type": "stream",
     "text": [
      "INFO:tensorflow:Restoring parameters from ./image_classification\n",
      "Testing Accuracy: 0.6859383583068848\n",
      "\n"
     ]
    },
    {
     "data": {
      "image/png": "[encoded data removed]",
      "text/plain": [
       "<matplotlib.figure.Figure at 0x117414f60>"
      ]
     },
     "metadata": {
      "image/png": {
       "height": 319,
       "width": 355
      }
     },
     "output_type": "display_data"
    }
   ],
   "source": [
    "\"\"\"\n",
    "DON'T MODIFY ANYTHING IN THIS CELL\n",
    "\"\"\"\n",
    "%matplotlib inline\n",
    "%config InlineBackend.figure_format = 'retina'\n",
    "\n",
    "import tensorflow as tf\n",
    "import pickle\n",
    "import helper\n",
    "import random\n",
    "\n",
    "# Set batch size if not already set\n",
    "try:\n",
    "    if batch_size:\n",
    "        pass\n",
    "except NameError:\n",
    "    batch_size = 64\n",
    "\n",
    "save_model_path = './image_classification'\n",
    "n_samples = 4\n",
    "top_n_predictions = 3\n",
    "\n",
    "def test_model():\n",
    "    \"\"\"\n",
    "    Test the saved model against the test dataset\n",
    "    \"\"\"\n",
    "\n",
    "    test_features, test_labels = pickle.load(open('preprocess_test.p', mode='rb'))\n",
    "    loaded_graph = tf.Graph()\n",
    "\n",
    "    with tf.Session(graph=loaded_graph) as sess:\n",
    "        # Load model\n",
    "        loader = tf.train.import_meta_graph(save_model_path + '.meta')\n",
    "        loader.restore(sess, save_model_path)\n",
    "\n",
    "        # Get Tensors from loaded model\n",
    "        loaded_x = loaded_graph.get_tensor_by_name('x:0')\n",
    "        loaded_y = loaded_graph.get_tensor_by_name('y:0')\n",
    "        loaded_keep_prob = loaded_graph.get_tensor_by_name('keep_prob:0')\n",
    "        loaded_logits = loaded_graph.get_tensor_by_name('logits:0')\n",
    "        loaded_acc = loaded_graph.get_tensor_by_name('accuracy:0')\n",
    "        \n",
    "        # Get accuracy in batches for memory limitations\n",
    "        test_batch_acc_total = 0\n",
    "        test_batch_count = 0\n",
    "        \n",
    "        for test_feature_batch, test_label_batch in helper.batch_features_labels(test_features, test_labels, batch_size):\n",
    "            test_batch_acc_total += sess.run(\n",
    "                loaded_acc,\n",
    "                feed_dict={loaded_x: test_feature_batch, loaded_y: test_label_batch, loaded_keep_prob: 1.0})\n",
    "            test_batch_count += 1\n",
    "\n",
    "        print('Testing Accuracy: {}\\n'.format(test_batch_acc_total/test_batch_count))\n",
    "\n",
    "        # Print Random Samples\n",
    "        random_test_features, random_test_labels = tuple(zip(*random.sample(list(zip(test_features, test_labels)), n_samples)))\n",
    "        random_test_predictions = sess.run(\n",
    "            tf.nn.top_k(tf.nn.softmax(loaded_logits), top_n_predictions),\n",
    "            feed_dict={loaded_x: random_test_features, loaded_y: random_test_labels, loaded_keep_prob: 1.0})\n",
    "        helper.display_image_predictions(random_test_features, random_test_labels, random_test_predictions)\n",
    "\n",
    "\n",
    "test_model()"
   ]
  },
  {
   "cell_type": "markdown",
   "metadata": {},
   "source": [
    "## Why 50-80% Accuracy?\n",
    "You might be wondering why you can't get an accuracy any higher. First things first, 50% isn't bad for a simple CNN.  Pure guessing would get you 10% accuracy. However, you might notice people are getting scores [well above 80%](http://rodrigob.github.io/are_we_there_yet/build/classification_datasets_results.html#43494641522d3130).  That's because we haven't taught you all there is to know about neural networks. We still need to cover a few more techniques.\n",
    "## Submitting This Project\n",
    "When submitting this project, make sure to run all the cells before saving the notebook.  Save the notebook file as \"dlnd_image_classification.ipynb\" and save it as a HTML file under \"File\" -> \"Download as\".  Include the \"helper.py\" and \"problem_unittests.py\" files in your submission."
   ]
  }
 ],
 "metadata": {
  "kernelspec": {
   "display_name": "Python 3",
   "language": "python",
   "name": "python3"
  },
  "language_info": {
   "codemirror_mode": {
    "name": "ipython",
    "version": 3
   },
   "file_extension": ".py",
   "mimetype": "text/x-python",
   "name": "python",
   "nbconvert_exporter": "python",
   "pygments_lexer": "ipython3",
   "version": "3.6.0"
  }
 },
 "nbformat": 4,
 "nbformat_minor": 1
}
